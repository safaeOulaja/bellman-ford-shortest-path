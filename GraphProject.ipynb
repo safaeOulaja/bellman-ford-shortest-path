{
 "cells": [
  {
   "cell_type": "code",
   "execution_count": null,
   "metadata": {},
   "outputs": [],
   "source": [
    "!pip install osmnx\n",
    "!pip install geopy\n",
    "!pip install folium"
   ]
  },
  {
   "cell_type": "code",
   "execution_count": 30,
   "metadata": {
    "id": "n2ViZ-UmGNGx"
   },
   "outputs": [],
   "source": [
    "import osmnx as ox\n",
    "import numpy as np\n",
    "import math as math\n",
    "import geopy\n",
    "from geopy.distance import geodesic"
   ]
  },
  {
   "cell_type": "code",
   "execution_count": 31,
   "metadata": {
    "id": "IYUOVe0KGLFc"
   },
   "outputs": [],
   "source": [
    "# Charger les données OpenStreetMap pour Fès\n",
    "graph = ox.graph_from_place(\"Fès, Maroc\", network_type='drive')"
   ]
  },
  {
   "cell_type": "code",
   "execution_count": 32,
   "metadata": {
    "id": "lWEXcjs-sAgh"
   },
   "outputs": [],
   "source": [
    "# Récupérer la matrice d'adjacence du graphe.\n",
    "adjacency = graph._adj"
   ]
  },
  {
   "cell_type": "code",
   "execution_count": 33,
   "metadata": {
    "id": "ScwJ8F3UlfkG"
   },
   "outputs": [],
   "source": [
    "keys = adjacency.keys()"
   ]
  },
  {
   "cell_type": "code",
   "execution_count": 34,
   "metadata": {
    "id": "T7dLSDcANQyY"
   },
   "outputs": [],
   "source": [
    "keys = list(keys)\n",
    "keys.sort()"
   ]
  },
  {
   "cell_type": "code",
   "execution_count": 35,
   "metadata": {
    "id": "e4kYyXM3NiXM"
   },
   "outputs": [],
   "source": [
    "dic_k = {keys[0] : 0}\n",
    "for i in range(len(keys)) :\n",
    "  dic_k[keys[i]] = i\n"
   ]
  },
  {
   "cell_type": "code",
   "execution_count": 36,
   "metadata": {
    "id": "GOwrjPXnOOtV"
   },
   "outputs": [],
   "source": [
    "adj = {}\n",
    "a=[]\n",
    "for i, s in adjacency.items():  # Corrected colon placement\n",
    "\n",
    "    a=[]\n",
    "    for j in s.keys():\n",
    "      a.append(dic_k[j])\n",
    "    adj[dic_k[i]] = a"
   ]
  },
  {
   "cell_type": "code",
   "execution_count": 37,
   "metadata": {
    "id": "Ng_cHRsmlUSz"
   },
   "outputs": [],
   "source": [
    "def adjacency_from_dict(adj_dict):\n",
    "  \"\"\"\n",
    "  Convertit un dictionnaire d'attributs _adj en matrice adjacente.\n",
    "\n",
    "  Args:\n",
    "    adj_dict: Un dictionnaire d'attributs _adj.\n",
    "\n",
    "  Returns:\n",
    "    Une matrice adjacente.\n",
    "  \"\"\"\n",
    "\n",
    "  # Créer une matrice vide.\n",
    "  adjacency = np.zeros((len(adj_dict), len(adj_dict)))\n",
    "\n",
    "  # Parcourir le dictionnaire _adj.\n",
    "  for source, destination in adj_dict.items():\n",
    "    for i in destination:\n",
    "      # Mettre à jour la matrice adjacente.\n",
    "      adjacency[source][i] = 1\n",
    "\n",
    "  return adjacency"
   ]
  },
  {
   "cell_type": "code",
   "execution_count": 38,
   "metadata": {
    "id": "zoKiPTPgG90H"
   },
   "outputs": [
    {
     "data": {
      "text/plain": [
       "15917"
      ]
     },
     "execution_count": 38,
     "metadata": {},
     "output_type": "execute_result"
    }
   ],
   "source": [
    "len(adj)"
   ]
  },
  {
   "cell_type": "code",
   "execution_count": 39,
   "metadata": {
    "id": "pTSTY_igvOo3"
   },
   "outputs": [],
   "source": [
    "L=adjacency_from_dict(adj)"
   ]
  },
  {
   "cell_type": "code",
   "execution_count": 40,
   "metadata": {
    "id": "nO9VrEG84NKF"
   },
   "outputs": [],
   "source": [
    "nodes = graph._node\n",
    "Graphe={}\n",
    "\n",
    "for i in list(nodes.keys()):  # Corrected colon placement\n",
    "    Graphe[dic_k[i]]=nodes[i]"
   ]
  },
  {
   "cell_type": "code",
   "execution_count": 41,
   "metadata": {
    "id": "OfuL7QO0j2Y8"
   },
   "outputs": [],
   "source": [
    "def calculate_distance(coord1, coord2):\n",
    "    # Calculate the distance\n",
    "    distance = geodesic(coord1, coord2).meters\n",
    "    return distance\n",
    "def poids(u,v):\n",
    "  global nodesGraph\n",
    "  return calculate_distance((nodesGraph[v]['y'],nodesGraph[v]['x']), (nodesGraph[u]['y'],nodesGraph[u]['x']))"
   ]
  },
  {
   "cell_type": "code",
   "execution_count": 42,
   "metadata": {
    "id": "78U0oHJpHjma"
   },
   "outputs": [],
   "source": [
    "#34.037116, -5.002964\n",
    "centre = {'y': 34.037116 , 'x':-5.002964}\n",
    "newGraph = {}\n",
    "for i in Graphe.items():\n",
    "   if calculate_distance((i[1]['y'],i[1]['x']),(centre['y'],centre['x'])) < 500 :\n",
    "    newGraph[i[0]]=i[1]"
   ]
  },
  {
   "cell_type": "code",
   "execution_count": 43,
   "metadata": {
    "id": "e6CK7Vd5lQRa"
   },
   "outputs": [
    {
     "data": {
      "text/plain": [
       "116"
      ]
     },
     "execution_count": 43,
     "metadata": {},
     "output_type": "execute_result"
    }
   ],
   "source": [
    "len(newGraph)"
   ]
  },
  {
   "cell_type": "code",
   "execution_count": 44,
   "metadata": {
    "id": "3Rdj4RTRPKO_"
   },
   "outputs": [],
   "source": [
    "newGraph_list =list(newGraph.items())"
   ]
  },
  {
   "cell_type": "code",
   "execution_count": 45,
   "metadata": {
    "id": "HUBGClN9QfGY"
   },
   "outputs": [],
   "source": [
    "newGraph_list.sort(key=lambda x: x[0])"
   ]
  },
  {
   "cell_type": "code",
   "execution_count": 46,
   "metadata": {
    "id": "U_zxPwh-RE1t"
   },
   "outputs": [],
   "source": [
    "# Créer une matrice de len(newGraph) x len(newGraph) remplie de zéros\n",
    "matrice = np.zeros((len(newGraph), len(newGraph)))\n"
   ]
  },
  {
   "cell_type": "code",
   "execution_count": 47,
   "metadata": {
    "id": "prTTd_aUYLcB"
   },
   "outputs": [],
   "source": [
    "for i in range(len(matrice)):\n",
    "  for j in range(len(matrice)):\n",
    "    matrice[i][j]= L[newGraph_list[i][0]][newGraph_list[j][0]]"
   ]
  },
  {
   "cell_type": "code",
   "execution_count": 48,
   "metadata": {
    "id": "kUi1Bhf-b1Fo"
   },
   "outputs": [],
   "source": [
    "nodesGraph={}\n",
    "for i in range(len(newGraph_list)):\n",
    "  nodesGraph[i] = newGraph_list[i][1]"
   ]
  },
  {
   "cell_type": "code",
   "execution_count": 49,
   "metadata": {
    "id": "HONxlJgVmlqw"
   },
   "outputs": [
    {
     "data": {
      "text/plain": [
       "116"
      ]
     },
     "execution_count": 49,
     "metadata": {},
     "output_type": "execute_result"
    }
   ],
   "source": [
    "len(matrice)"
   ]
  },
  {
   "cell_type": "code",
   "execution_count": 50,
   "metadata": {
    "id": "iCUuuB1UkeIV"
   },
   "outputs": [],
   "source": [
    "def poids(u,v):\n",
    "  global nodesGraph\n",
    "  return calculate_distance((nodesGraph[v]['y'],nodesGraph[v]['x']), (nodesGraph[u]['y'],nodesGraph[u]['x']))"
   ]
  },
  {
   "cell_type": "code",
   "execution_count": 51,
   "metadata": {
    "id": "K07JTmfTvzRp"
   },
   "outputs": [],
   "source": [
    "def Bellman_Ford(s, graphe, dist, pred):\n",
    "    # Nombre de sommets dans le graphe\n",
    "    ns = len(graphe)\n",
    "\n",
    "    # Initialisation des distances et des prédécesseurs\n",
    "    for i in range(ns):\n",
    "        dist.append(float('inf'))\n",
    "        pred.append(None)\n",
    "\n",
    "    # La distance du sommet initial à lui-même est 0\n",
    "    dist[s] = 0\n",
    "\n",
    "    # Relaxation des arêtes\n",
    "    for i in range(1, ns):\n",
    "        for node in range(ns):\n",
    "            # Trouver les successeurs du noeud\n",
    "            #successeurs = successeurfunction(node, graphe)\n",
    "            successeurs = [v for v in range(ns) if matrice[node][v] == 1]\n",
    "            for successeur in successeurs:\n",
    "                # Calculer la distance temporaire\n",
    "                tempdist = dist[node] + poids(node,successeur)\n",
    "                # Mettre à jour la distance et le prédécesseur si nécessaire\n",
    "                if dist[successeur] > tempdist:\n",
    "                    dist[successeur] = tempdist\n",
    "                    pred[successeur] = node\n",
    "\n",
    "    # Vérification des cycles de poids négatif\n",
    "    for node in range(ns):\n",
    "        successeurs = [v for v in range(ns) if matrice[node][v] == 1]\n",
    "        for successeur in successeurs:\n",
    "            tempdist = dist[node] + poids(node,successeur)\n",
    "            if dist[successeur] > tempdist:\n",
    "                # Si on trouve un cycle de poids négatif, on retourne False\n",
    "                return False\n",
    "\n",
    "    # Si aucun cycle de poids négatif n'a été trouvé, on retourne True\n",
    "    return True\n"
   ]
  },
  {
   "cell_type": "code",
   "execution_count": 52,
   "metadata": {
    "id": "i8O8zicQ5IB7"
   },
   "outputs": [],
   "source": [
    "def printShortPath(nodeofMygraphe,pred,s,d):\n",
    "    path=[]\n",
    "    path.append(nodeofMygraphe[d])\n",
    "    m=pred[d]\n",
    "    while m is not None:\n",
    "        path.append(nodeofMygraphe[m])\n",
    "        m=pred[m]\n",
    "    path.reverse()\n",
    "    listP =[]\n",
    "    for i in range(len(path)):\n",
    "      listP.append([path[i]['y'],path[i]['x']])\n",
    "    return listP"
   ]
  },
  {
   "cell_type": "code",
   "execution_count": 53,
   "metadata": {},
   "outputs": [
    {
     "name": "stdout",
     "output_type": "stream",
     "text": [
      "Le graphe ne contient pas de cercle négatif\n"
     ]
    }
   ],
   "source": [
    "s = 0\n",
    "d=50\n",
    "dist=[]\n",
    "pred=[]\n",
    "if Bellman_Ford(s,matrice,dist,pred):\n",
    "    print('Le graphe ne contient pas de cercle négatif')\n",
    "    chemin = printShortPath(nodesGraph,pred,s,d)\n",
    "else:\n",
    "    print('Le graphe contient un cercle négatif')"
   ]
  },
  {
   "cell_type": "code",
   "execution_count": 54,
   "metadata": {
    "id": "Abgq0AWYU5G_"
   },
   "outputs": [],
   "source": [
    "_='''\n",
    "des = {'y': 34.017837 , 'x':-5.052688}\n",
    "min =10\n",
    "indice = None\n",
    "for i in range(len(nodesGraph)) :\n",
    "  if min > poids(i,des) :\n",
    "    min = poids(i,des)\n",
    "    indice : i'''"
   ]
  },
  {
   "cell_type": "code",
   "execution_count": 55,
   "metadata": {
    "id": "uOCMOL4EtOrO"
   },
   "outputs": [],
   "source": [
    "#i= 29    34.0339453 , -5.0207892\n",
    "#i= 11    34.0362908 , -5.0196482"
   ]
  },
  {
   "cell_type": "code",
   "execution_count": 56,
   "metadata": {
    "id": "Cr-fuVZJY1Ok"
   },
   "outputs": [
    {
     "data": {
      "text/html": [
       "<div style=\"width:100%;\"><div style=\"position:relative;width:100%;height:0;padding-bottom:60%;\"><span style=\"color:#565656\">Make this Notebook Trusted to load map: File -> Trust Notebook</span><iframe srcdoc=\"&lt;!DOCTYPE html&gt;\n",
       "&lt;html&gt;\n",
       "&lt;head&gt;\n",
       "    \n",
       "    &lt;meta http-equiv=&quot;content-type&quot; content=&quot;text/html; charset=UTF-8&quot; /&gt;\n",
       "    \n",
       "        &lt;script&gt;\n",
       "            L_NO_TOUCH = false;\n",
       "            L_DISABLE_3D = false;\n",
       "        &lt;/script&gt;\n",
       "    \n",
       "    &lt;style&gt;html, body {width: 100%;height: 100%;margin: 0;padding: 0;}&lt;/style&gt;\n",
       "    &lt;style&gt;#map {position:absolute;top:0;bottom:0;right:0;left:0;}&lt;/style&gt;\n",
       "    &lt;script src=&quot;https://cdn.jsdelivr.net/npm/leaflet@1.9.3/dist/leaflet.js&quot;&gt;&lt;/script&gt;\n",
       "    &lt;script src=&quot;https://code.jquery.com/jquery-3.7.1.min.js&quot;&gt;&lt;/script&gt;\n",
       "    &lt;script src=&quot;https://cdn.jsdelivr.net/npm/bootstrap@5.2.2/dist/js/bootstrap.bundle.min.js&quot;&gt;&lt;/script&gt;\n",
       "    &lt;script src=&quot;https://cdnjs.cloudflare.com/ajax/libs/Leaflet.awesome-markers/2.0.2/leaflet.awesome-markers.js&quot;&gt;&lt;/script&gt;\n",
       "    &lt;link rel=&quot;stylesheet&quot; href=&quot;https://cdn.jsdelivr.net/npm/leaflet@1.9.3/dist/leaflet.css&quot;/&gt;\n",
       "    &lt;link rel=&quot;stylesheet&quot; href=&quot;https://cdn.jsdelivr.net/npm/bootstrap@5.2.2/dist/css/bootstrap.min.css&quot;/&gt;\n",
       "    &lt;link rel=&quot;stylesheet&quot; href=&quot;https://netdna.bootstrapcdn.com/bootstrap/3.0.0/css/bootstrap.min.css&quot;/&gt;\n",
       "    &lt;link rel=&quot;stylesheet&quot; href=&quot;https://cdn.jsdelivr.net/npm/@fortawesome/fontawesome-free@6.2.0/css/all.min.css&quot;/&gt;\n",
       "    &lt;link rel=&quot;stylesheet&quot; href=&quot;https://cdnjs.cloudflare.com/ajax/libs/Leaflet.awesome-markers/2.0.2/leaflet.awesome-markers.css&quot;/&gt;\n",
       "    &lt;link rel=&quot;stylesheet&quot; href=&quot;https://cdn.jsdelivr.net/gh/python-visualization/folium/folium/templates/leaflet.awesome.rotate.min.css&quot;/&gt;\n",
       "    \n",
       "            &lt;meta name=&quot;viewport&quot; content=&quot;width=device-width,\n",
       "                initial-scale=1.0, maximum-scale=1.0, user-scalable=no&quot; /&gt;\n",
       "            &lt;style&gt;\n",
       "                #map_f287c90e0db8b0853d61e994a76fd568 {\n",
       "                    position: relative;\n",
       "                    width: 100.0%;\n",
       "                    height: 100.0%;\n",
       "                    left: 0.0%;\n",
       "                    top: 0.0%;\n",
       "                }\n",
       "                .leaflet-container { font-size: 1rem; }\n",
       "            &lt;/style&gt;\n",
       "        \n",
       "&lt;/head&gt;\n",
       "&lt;body&gt;\n",
       "    \n",
       "    \n",
       "            &lt;div class=&quot;folium-map&quot; id=&quot;map_f287c90e0db8b0853d61e994a76fd568&quot; &gt;&lt;/div&gt;\n",
       "        \n",
       "&lt;/body&gt;\n",
       "&lt;script&gt;\n",
       "    \n",
       "    \n",
       "            var map_f287c90e0db8b0853d61e994a76fd568 = L.map(\n",
       "                &quot;map_f287c90e0db8b0853d61e994a76fd568&quot;,\n",
       "                {\n",
       "                    center: [34.0376628, -4.9982331],\n",
       "                    crs: L.CRS.EPSG3857,\n",
       "                    zoom: 50,\n",
       "                    zoomControl: true,\n",
       "                    preferCanvas: false,\n",
       "                }\n",
       "            );\n",
       "\n",
       "            \n",
       "\n",
       "        \n",
       "    \n",
       "            var tile_layer_ec4208f85fafa6e92b3e58b773cf2a4c = L.tileLayer(\n",
       "                &quot;https://tile.openstreetmap.org/{z}/{x}/{y}.png&quot;,\n",
       "                {&quot;attribution&quot;: &quot;\\u0026copy; \\u003ca href=\\&quot;https://www.openstreetmap.org/copyright\\&quot;\\u003eOpenStreetMap\\u003c/a\\u003e contributors&quot;, &quot;detectRetina&quot;: false, &quot;maxNativeZoom&quot;: 19, &quot;maxZoom&quot;: 19, &quot;minZoom&quot;: 0, &quot;noWrap&quot;: false, &quot;opacity&quot;: 1, &quot;subdomains&quot;: &quot;abc&quot;, &quot;tms&quot;: false}\n",
       "            );\n",
       "        \n",
       "    \n",
       "            tile_layer_ec4208f85fafa6e92b3e58b773cf2a4c.addTo(map_f287c90e0db8b0853d61e994a76fd568);\n",
       "        \n",
       "    \n",
       "            var marker_c8be9d50811f4aa9ebecabc61137e5af = L.marker(\n",
       "                [34.0376628, -4.9982331],\n",
       "                {}\n",
       "            ).addTo(map_f287c90e0db8b0853d61e994a76fd568);\n",
       "        \n",
       "    \n",
       "            var icon_6ba3324ce434ffe74a4ef47e1a15f518 = L.AwesomeMarkers.icon(\n",
       "                {&quot;extraClasses&quot;: &quot;fa-rotate-0&quot;, &quot;icon&quot;: &quot;info-sign&quot;, &quot;iconColor&quot;: &quot;white&quot;, &quot;markerColor&quot;: &quot;green&quot;, &quot;prefix&quot;: &quot;glyphicon&quot;}\n",
       "            );\n",
       "            marker_c8be9d50811f4aa9ebecabc61137e5af.setIcon(icon_6ba3324ce434ffe74a4ef47e1a15f518);\n",
       "        \n",
       "    \n",
       "            var marker_480a768cc77e2ed638561c7982e1e920 = L.marker(\n",
       "                [34.0375283, -4.9990361],\n",
       "                {}\n",
       "            ).addTo(map_f287c90e0db8b0853d61e994a76fd568);\n",
       "        \n",
       "    \n",
       "            var icon_3a0624809aae32953c53315ea075159a = L.AwesomeMarkers.icon(\n",
       "                {&quot;extraClasses&quot;: &quot;fa-rotate-0&quot;, &quot;icon&quot;: &quot;info-sign&quot;, &quot;iconColor&quot;: &quot;white&quot;, &quot;markerColor&quot;: &quot;blue&quot;, &quot;prefix&quot;: &quot;glyphicon&quot;}\n",
       "            );\n",
       "            marker_480a768cc77e2ed638561c7982e1e920.setIcon(icon_3a0624809aae32953c53315ea075159a);\n",
       "        \n",
       "    \n",
       "            var marker_9d6b96bf758bfbf14b1b77b65abbdddc = L.marker(\n",
       "                [34.037375, -4.9998971],\n",
       "                {}\n",
       "            ).addTo(map_f287c90e0db8b0853d61e994a76fd568);\n",
       "        \n",
       "    \n",
       "            var icon_b82c3616a11f22a542300834455e42c3 = L.AwesomeMarkers.icon(\n",
       "                {&quot;extraClasses&quot;: &quot;fa-rotate-0&quot;, &quot;icon&quot;: &quot;info-sign&quot;, &quot;iconColor&quot;: &quot;white&quot;, &quot;markerColor&quot;: &quot;blue&quot;, &quot;prefix&quot;: &quot;glyphicon&quot;}\n",
       "            );\n",
       "            marker_9d6b96bf758bfbf14b1b77b65abbdddc.setIcon(icon_b82c3616a11f22a542300834455e42c3);\n",
       "        \n",
       "    \n",
       "            var marker_327e7e06ca0658d2a03689af09ff772b = L.marker(\n",
       "                [34.0371845, -5.0009833],\n",
       "                {}\n",
       "            ).addTo(map_f287c90e0db8b0853d61e994a76fd568);\n",
       "        \n",
       "    \n",
       "            var icon_662bd4ccd63efdcb848f55c06543b7d9 = L.AwesomeMarkers.icon(\n",
       "                {&quot;extraClasses&quot;: &quot;fa-rotate-0&quot;, &quot;icon&quot;: &quot;info-sign&quot;, &quot;iconColor&quot;: &quot;white&quot;, &quot;markerColor&quot;: &quot;blue&quot;, &quot;prefix&quot;: &quot;glyphicon&quot;}\n",
       "            );\n",
       "            marker_327e7e06ca0658d2a03689af09ff772b.setIcon(icon_662bd4ccd63efdcb848f55c06543b7d9);\n",
       "        \n",
       "    \n",
       "            var marker_03c5b28be59e776e272ff784470988b6 = L.marker(\n",
       "                [34.0370042, -5.0019497],\n",
       "                {}\n",
       "            ).addTo(map_f287c90e0db8b0853d61e994a76fd568);\n",
       "        \n",
       "    \n",
       "            var icon_03f8d4b18696dec811c14a499e8dec8e = L.AwesomeMarkers.icon(\n",
       "                {&quot;extraClasses&quot;: &quot;fa-rotate-0&quot;, &quot;icon&quot;: &quot;info-sign&quot;, &quot;iconColor&quot;: &quot;white&quot;, &quot;markerColor&quot;: &quot;blue&quot;, &quot;prefix&quot;: &quot;glyphicon&quot;}\n",
       "            );\n",
       "            marker_03c5b28be59e776e272ff784470988b6.setIcon(icon_03f8d4b18696dec811c14a499e8dec8e);\n",
       "        \n",
       "    \n",
       "            var marker_1d38cb27213b0ef3381edea8abe85aa5 = L.marker(\n",
       "                [34.0370184, -5.0024385],\n",
       "                {}\n",
       "            ).addTo(map_f287c90e0db8b0853d61e994a76fd568);\n",
       "        \n",
       "    \n",
       "            var icon_08d2aa7225455cbd656bd03d2e370c4d = L.AwesomeMarkers.icon(\n",
       "                {&quot;extraClasses&quot;: &quot;fa-rotate-0&quot;, &quot;icon&quot;: &quot;info-sign&quot;, &quot;iconColor&quot;: &quot;white&quot;, &quot;markerColor&quot;: &quot;blue&quot;, &quot;prefix&quot;: &quot;glyphicon&quot;}\n",
       "            );\n",
       "            marker_1d38cb27213b0ef3381edea8abe85aa5.setIcon(icon_08d2aa7225455cbd656bd03d2e370c4d);\n",
       "        \n",
       "    \n",
       "            var marker_e6f4f6483a2eea22d0030da05d5d4997 = L.marker(\n",
       "                [34.0371328, -5.0026165],\n",
       "                {}\n",
       "            ).addTo(map_f287c90e0db8b0853d61e994a76fd568);\n",
       "        \n",
       "    \n",
       "            var icon_7cbfcc778c9ab40e00c9b5e87af35680 = L.AwesomeMarkers.icon(\n",
       "                {&quot;extraClasses&quot;: &quot;fa-rotate-0&quot;, &quot;icon&quot;: &quot;info-sign&quot;, &quot;iconColor&quot;: &quot;white&quot;, &quot;markerColor&quot;: &quot;blue&quot;, &quot;prefix&quot;: &quot;glyphicon&quot;}\n",
       "            );\n",
       "            marker_e6f4f6483a2eea22d0030da05d5d4997.setIcon(icon_7cbfcc778c9ab40e00c9b5e87af35680);\n",
       "        \n",
       "    \n",
       "            var marker_70b4645b4d2fbe670565004b542b7546 = L.marker(\n",
       "                [34.0372259, -5.0026379],\n",
       "                {}\n",
       "            ).addTo(map_f287c90e0db8b0853d61e994a76fd568);\n",
       "        \n",
       "    \n",
       "            var icon_4d834aab0da7bf2c2407a1864dfaa189 = L.AwesomeMarkers.icon(\n",
       "                {&quot;extraClasses&quot;: &quot;fa-rotate-0&quot;, &quot;icon&quot;: &quot;info-sign&quot;, &quot;iconColor&quot;: &quot;white&quot;, &quot;markerColor&quot;: &quot;blue&quot;, &quot;prefix&quot;: &quot;glyphicon&quot;}\n",
       "            );\n",
       "            marker_70b4645b4d2fbe670565004b542b7546.setIcon(icon_4d834aab0da7bf2c2407a1864dfaa189);\n",
       "        \n",
       "    \n",
       "            var marker_1ef83946ec36bba1bd84e81ad05f83aa = L.marker(\n",
       "                [34.0373872, -5.0030221],\n",
       "                {}\n",
       "            ).addTo(map_f287c90e0db8b0853d61e994a76fd568);\n",
       "        \n",
       "    \n",
       "            var icon_13af6bacab48d38384bca3c54bbcb166 = L.AwesomeMarkers.icon(\n",
       "                {&quot;extraClasses&quot;: &quot;fa-rotate-0&quot;, &quot;icon&quot;: &quot;info-sign&quot;, &quot;iconColor&quot;: &quot;white&quot;, &quot;markerColor&quot;: &quot;blue&quot;, &quot;prefix&quot;: &quot;glyphicon&quot;}\n",
       "            );\n",
       "            marker_1ef83946ec36bba1bd84e81ad05f83aa.setIcon(icon_13af6bacab48d38384bca3c54bbcb166);\n",
       "        \n",
       "    \n",
       "            var marker_ca482782095c8b0ac662ac6c44f0886a = L.marker(\n",
       "                [34.0373841, -5.0030346],\n",
       "                {}\n",
       "            ).addTo(map_f287c90e0db8b0853d61e994a76fd568);\n",
       "        \n",
       "    \n",
       "            var icon_3cff41b2aba03fde46101bb2028c542a = L.AwesomeMarkers.icon(\n",
       "                {&quot;extraClasses&quot;: &quot;fa-rotate-0&quot;, &quot;icon&quot;: &quot;info-sign&quot;, &quot;iconColor&quot;: &quot;white&quot;, &quot;markerColor&quot;: &quot;blue&quot;, &quot;prefix&quot;: &quot;glyphicon&quot;}\n",
       "            );\n",
       "            marker_ca482782095c8b0ac662ac6c44f0886a.setIcon(icon_3cff41b2aba03fde46101bb2028c542a);\n",
       "        \n",
       "    \n",
       "            var marker_3275784cb58a2afe08de1bb989a3ef26 = L.marker(\n",
       "                [34.0371819, -5.0032529],\n",
       "                {}\n",
       "            ).addTo(map_f287c90e0db8b0853d61e994a76fd568);\n",
       "        \n",
       "    \n",
       "            var icon_dbba7c1f719eb1f4cdcb450e506323b1 = L.AwesomeMarkers.icon(\n",
       "                {&quot;extraClasses&quot;: &quot;fa-rotate-0&quot;, &quot;icon&quot;: &quot;info-sign&quot;, &quot;iconColor&quot;: &quot;white&quot;, &quot;markerColor&quot;: &quot;blue&quot;, &quot;prefix&quot;: &quot;glyphicon&quot;}\n",
       "            );\n",
       "            marker_3275784cb58a2afe08de1bb989a3ef26.setIcon(icon_dbba7c1f719eb1f4cdcb450e506323b1);\n",
       "        \n",
       "    \n",
       "            var marker_a569a49f15c3238ff7f0f7b1580dd80e = L.marker(\n",
       "                [34.0369595, -5.0031842],\n",
       "                {}\n",
       "            ).addTo(map_f287c90e0db8b0853d61e994a76fd568);\n",
       "        \n",
       "    \n",
       "            var icon_85565deb34ca7f600fa6481e5e4f7572 = L.AwesomeMarkers.icon(\n",
       "                {&quot;extraClasses&quot;: &quot;fa-rotate-0&quot;, &quot;icon&quot;: &quot;info-sign&quot;, &quot;iconColor&quot;: &quot;white&quot;, &quot;markerColor&quot;: &quot;blue&quot;, &quot;prefix&quot;: &quot;glyphicon&quot;}\n",
       "            );\n",
       "            marker_a569a49f15c3238ff7f0f7b1580dd80e.setIcon(icon_85565deb34ca7f600fa6481e5e4f7572);\n",
       "        \n",
       "    \n",
       "            var marker_05351b1f27d700f9c63c4e858e198bd6 = L.marker(\n",
       "                [34.0368821, -5.0028215],\n",
       "                {}\n",
       "            ).addTo(map_f287c90e0db8b0853d61e994a76fd568);\n",
       "        \n",
       "    \n",
       "            var icon_de244f5c0f7f075e4b296d0a61e2ae3a = L.AwesomeMarkers.icon(\n",
       "                {&quot;extraClasses&quot;: &quot;fa-rotate-0&quot;, &quot;icon&quot;: &quot;info-sign&quot;, &quot;iconColor&quot;: &quot;white&quot;, &quot;markerColor&quot;: &quot;red&quot;, &quot;prefix&quot;: &quot;glyphicon&quot;}\n",
       "            );\n",
       "            marker_05351b1f27d700f9c63c4e858e198bd6.setIcon(icon_de244f5c0f7f075e4b296d0a61e2ae3a);\n",
       "        \n",
       "    \n",
       "            var poly_line_05f1caee992639cc5616d25c03f059eb = L.polyline(\n",
       "                [[34.0376628, -4.9982331], [34.0375283, -4.9990361], [34.037375, -4.9998971], [34.0371845, -5.0009833], [34.0370042, -5.0019497], [34.0370184, -5.0024385], [34.0371328, -5.0026165], [34.0372259, -5.0026379], [34.0373872, -5.0030221], [34.0373841, -5.0030346], [34.0371819, -5.0032529], [34.0369595, -5.0031842], [34.0368821, -5.0028215]],\n",
       "                {&quot;bubblingMouseEvents&quot;: true, &quot;color&quot;: &quot;blue&quot;, &quot;dashArray&quot;: null, &quot;dashOffset&quot;: null, &quot;fill&quot;: false, &quot;fillColor&quot;: &quot;blue&quot;, &quot;fillOpacity&quot;: 0.2, &quot;fillRule&quot;: &quot;evenodd&quot;, &quot;lineCap&quot;: &quot;round&quot;, &quot;lineJoin&quot;: &quot;round&quot;, &quot;noClip&quot;: false, &quot;opacity&quot;: 0.5, &quot;smoothFactor&quot;: 1.0, &quot;stroke&quot;: true, &quot;weight&quot;: 5}\n",
       "            ).addTo(map_f287c90e0db8b0853d61e994a76fd568);\n",
       "        \n",
       "&lt;/script&gt;\n",
       "&lt;/html&gt;\" style=\"position:absolute;width:100%;height:100%;left:0;top:0;border:none !important;\" allowfullscreen webkitallowfullscreen mozallowfullscreen></iframe></div></div>"
      ],
      "text/plain": [
       "<folium.folium.Map at 0x1a18a4c7890>"
      ]
     },
     "execution_count": 56,
     "metadata": {},
     "output_type": "execute_result"
    }
   ],
   "source": [
    "import folium\n",
    "\n",
    "# Créer une carte centrée sur un emplacement spécifique\n",
    "m = folium.Map(location=chemin[0], zoom_start=50)\n",
    "\n",
    "# Ajouter l'itinéraire à la carte\n",
    "folium.Marker(location=chemin[0], icon=folium.Icon(color=\"green\")).add_to(m)  # Départ\n",
    "for i in range(1,len(chemin)-1):\n",
    "  folium.Marker(location=chemin[i], icon=folium.Icon(color=\"blue\")).add_to(m)  # Départ\n",
    "folium.Marker(location=chemin[-1], icon=folium.Icon(color=\"red\")).add_to(m)\n",
    "folium.PolyLine(chemin, color='blue', weight=5, opacity=0.5).add_to(m)\n",
    "\n",
    "# Afficher la carte\n",
    "m"
   ]
  },
  {
   "cell_type": "code",
   "execution_count": null,
   "metadata": {},
   "outputs": [],
   "source": []
  }
 ],
 "metadata": {
  "colab": {
   "authorship_tag": "ABX9TyP5AQE/jOwfn8EAWfju9IIb",
   "private_outputs": true,
   "provenance": []
  },
  "kernelspec": {
   "display_name": "Python 3 (ipykernel)",
   "language": "python",
   "name": "python3"
  },
  "language_info": {
   "codemirror_mode": {
    "name": "ipython",
    "version": 3
   },
   "file_extension": ".py",
   "mimetype": "text/x-python",
   "name": "python",
   "nbconvert_exporter": "python",
   "pygments_lexer": "ipython3",
   "version": "3.11.5"
  }
 },
 "nbformat": 4,
 "nbformat_minor": 4
}
